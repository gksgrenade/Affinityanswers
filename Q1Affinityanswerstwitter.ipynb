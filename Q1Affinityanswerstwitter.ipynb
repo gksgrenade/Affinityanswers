{
 "cells": [
  {
   "cell_type": "code",
   "execution_count": 1,
   "id": "a50c32e5",
   "metadata": {},
   "outputs": [],
   "source": [
    "import re\n",
    "\n",
    "# Define a set of racial slurs\n",
    "racial_slurs = {\"a\", \"b\", \"c\"}"
   ]
  },
  {
   "cell_type": "code",
   "execution_count": 2,
   "id": "81821da7",
   "metadata": {},
   "outputs": [],
   "source": [
    "# Define a function to calculate the degree of profanity for a sentence\n",
    "def calculate_profanity(sentence):\n",
    "    # Convert the sentence to lowercase\n",
    "    sentence = sentence.lower()\n",
    "\n",
    "    # Count the number of racial slurs in the sentence\n",
    "    num_slurs = 0\n",
    "    for slur in racial_slurs:\n",
    "        num_slurs += len(re.findall(slur, sentence))\n",
    "\n",
    "    # Calculate the degree of profanity as a percentage of words that are racial slurs\n",
    "    words = sentence.split()\n",
    "    if len(words) == 0:\n",
    "        return 0\n",
    "    else:\n",
    "        return round(num_slurs / len(words) * 100)"
   ]
  },
  {
   "cell_type": "code",
   "execution_count": 3,
   "id": "bc34de51",
   "metadata": {},
   "outputs": [
    {
     "name": "stdout",
     "output_type": "stream",
     "text": [
      "a b k l w a c. (Profanity: 57%)\n",
      "a s d f g h j. (Profanity: 14%)\n",
      "p o i u y t r. (Profanity: 0%)\n",
      "a a a a a a a. (Profanity: 100%)\n"
     ]
    }
   ],
   "source": [
    "# Open the file of tweets\n",
    "with open(\"tweets.txt\", \"r\", encoding=\"utf-8\") as file:\n",
    "    # Loop over each line in the file\n",
    "    for line in file:\n",
    "        # Calculate the degree of profanity for the line\n",
    "        profanity = calculate_profanity(line)\n",
    "        \n",
    "        # Print the line and its degree of profanity\n",
    "        print(f\"{line.strip()} (Profanity: {profanity}%)\")\n"
   ]
  },
  {
   "cell_type": "code",
   "execution_count": null,
   "id": "57be5487",
   "metadata": {},
   "outputs": [],
   "source": []
  }
 ],
 "metadata": {
  "kernelspec": {
   "display_name": "Python 3 (ipykernel)",
   "language": "python",
   "name": "python3"
  },
  "language_info": {
   "codemirror_mode": {
    "name": "ipython",
    "version": 3
   },
   "file_extension": ".py",
   "mimetype": "text/x-python",
   "name": "python",
   "nbconvert_exporter": "python",
   "pygments_lexer": "ipython3",
   "version": "3.10.1"
  }
 },
 "nbformat": 4,
 "nbformat_minor": 5
}
